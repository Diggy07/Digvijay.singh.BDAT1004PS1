{
 "cells": [
  {
   "cell_type": "markdown",
   "id": "b896bba3",
   "metadata": {},
   "source": [
    "# Question 1 C#\n",
    "What data type is each of the following?"
   ]
  },
  {
   "cell_type": "markdown",
   "id": "8dfeabec",
   "metadata": {},
   "source": [
    "5 = int\n",
    "5.0 = float\n",
    "5 > 1 = boolean\n",
    "'5' = char\n",
    "5 * 2 = int\n",
    "'5' * 2 = string\n",
    "'5' + '2' = string\n",
    "5 / 2 = int\n",
    "5 % 2 = int\n",
    "{5, 2, 1} = int array\n",
    "5 == 3 = boolean\n",
    "Pi (the number)= 3.14 = float"
   ]
  },
  {
   "cell_type": "markdown",
   "id": "400dc8e0",
   "metadata": {},
   "source": [
    "# Question 2 C#\n",
    "Write (and evaluate) C# expressions that answer these questions:\n",
    "a. How many letters are there in 'Supercalifragilisticexpialidocious'?\n",
    "output:- Number of letters: 34\n",
    "\n",
    "b. Does 'Supercalifragilisticexpialidocious' contain 'ice' as a substring?\n",
    "Output:- Contains subsring ice : True\n",
    "\n",
    "c. Which of the following words is the longest: \n",
    "Supercalifragilisticexpialidocious, Honorificabilitudinitatibus, or\n",
    "Bababadalgharaghtakamminarronnkonn?\n",
    "Output:- Longest word is : Supercalifragilisticexpialidocious\n",
    "\n",
    "\n",
    "d. Which composer comes first in the dictionary: 'Berlioz', 'Borodin', 'Brian',\n",
    "'Bartok', 'Bellini', 'Buxtehude', 'Bernstein'. Which one comes last?\n",
    "Output:-\n",
    "\n"
   ]
  },
  {
   "cell_type": "code",
   "execution_count": 1,
   "id": "2615131b",
   "metadata": {},
   "outputs": [
    {
     "ename": "SyntaxError",
     "evalue": "invalid syntax (2378342375.py, line 1)",
     "output_type": "error",
     "traceback": [
      "\u001b[1;36m  Input \u001b[1;32mIn [1]\u001b[1;36m\u001b[0m\n\u001b[1;33m    // Question 2 a\u001b[0m\n\u001b[1;37m    ^\u001b[0m\n\u001b[1;31mSyntaxError\u001b[0m\u001b[1;31m:\u001b[0m invalid syntax\n"
     ]
    }
   ],
   "source": [
    "// Question 2 a\n",
    "\n",
    "using System;\n",
    "\t\t\t\t\t\n",
    "public class Program\n",
    "{\n",
    "\tpublic static void Main(string[] args)\n",
    "\t{\n",
    "\t\tString str = \"Supercalifragilisticexpialidocious\";\n",
    "        Console.WriteLine(\"Number of letters: \" + (str.Length));\n",
    "\t\t\n",
    "\t}\n",
    "} "
   ]
  },
  {
   "cell_type": "code",
   "execution_count": null,
   "id": "f13da4b6",
   "metadata": {},
   "outputs": [],
   "source": [
    "// Question 2 b\n",
    "\n",
    "using System;\n",
    "\t\t\t\t\t\n",
    "public class Program\n",
    "{\n",
    "\tpublic static void Main(string[] args)\n",
    "\t{\n",
    "\t\tString str = \"Supercalifragilisticexpialidocious\";\n",
    "        Console.WriteLine(\"Contains subsring ice : \" + (str.Contains(\"ice\")));\n",
    "\t\t\n",
    "\t}\n",
    "} "
   ]
  },
  {
   "cell_type": "code",
   "execution_count": null,
   "id": "fbea7313",
   "metadata": {},
   "outputs": [],
   "source": [
    "// Question 2 c\n",
    "\n",
    "using System;\n",
    "\n",
    "public class Program \n",
    "\t{\n",
    "\tpublic static void Main(string[] args)\n",
    "\t\t{\n",
    "          string[] arr = {\"Supercalifragilisticexpialidocious\", \" Honorificabilitudinitatibus\", \"Bababadalgharaghtakamminarronnkonn\"};\n",
    "          \n",
    "        string longest_string = arr[0];\n",
    "        foreach (string s in arr) {\n",
    "            if (s.Length > longest_string.Length) {\n",
    "                longest_string = s;\n",
    "            }\n",
    "        }\n",
    "        Console.Write(\"Longest word is : \" + longest_string);\n",
    "            \n",
    "        }\n",
    "    }"
   ]
  },
  {
   "cell_type": "code",
   "execution_count": null,
   "id": "8bdab77c",
   "metadata": {},
   "outputs": [],
   "source": [
    "// Question 2 d\n",
    "\n"
   ]
  },
  {
   "cell_type": "markdown",
   "id": "78f7e00c",
   "metadata": {},
   "source": [
    "# Question 3 C#\n",
    "Implement function triangleArea(a,b,c) that takes as input the lengths of the 3\n",
    "sides of a triangle and returns the area of the triangle. By Heron's formula, the area\n",
    "of a triangle with side lengths a, b, and c is s(s − a)(s −b)(s −c), where\n",
    "s = (a + b + c)/2.\n",
    ">>> triangleArea(2,2,2)\n",
    "1.7320508075688772\n"
   ]
  },
  {
   "cell_type": "code",
   "execution_count": null,
   "id": "e85c9615",
   "metadata": {},
   "outputs": [],
   "source": [
    "using System;\n",
    "\n",
    "namespace TriangleArea \n",
    "{\n",
    "   \n",
    "    public class Program \n",
    "\t{\n",
    "       \n",
    "         static double triangleArea(float a, float b, float c)\n",
    "\t\t {\n",
    "            double s = (a + b + c)/2;\n",
    "            return Math.Sqrt((s*(s - a)*(s - b)*(s - c)));;\n",
    "        }\n",
    "        public static void Main(string[] args)\n",
    "\t\t{\n",
    "            Console.WriteLine(\"Enter length of side a: \");\n",
    "            int a = Convert.ToInt32(Console.ReadLine());\n",
    "            Console.WriteLine(\"Enter length of side b: \");\n",
    "            int b = Convert.ToInt32(Console.ReadLine());\n",
    "            Console.WriteLine(\"Enter length of side c: \");\n",
    "            int c = Convert.ToInt32(Console.ReadLine());\n",
    "            double area = triangleArea(a,b,c);\n",
    "            Console.WriteLine(area);\n",
    "            \n",
    "        }\n",
    "    }\n",
    "}"
   ]
  },
  {
   "cell_type": "markdown",
   "id": "1e9232fd",
   "metadata": {},
   "source": [
    "# Question 4 C#\n",
    "Write a program in C# Sharp to separate odd and even integers in separate arrays.\n",
    "Go to the editor\n",
    "Test Data :\n",
    "Input the number of elements to be stored in the array :5\n",
    "Input 5 elements in the array :\n",
    "element - 0 : 25\n",
    "element - 1 : 47\n",
    "element - 2 : 42\n",
    "element - 3 : 56\n",
    "element - 4 : 32\n",
    "Expected Output:\n",
    "The Even elements are:\n",
    "42 56 32\n",
    "The Odd elements are : \n",
    "25 47\n"
   ]
  },
  {
   "cell_type": "code",
   "execution_count": null,
   "id": "409cac85",
   "metadata": {},
   "outputs": [],
   "source": [
    "using System;\n",
    "\n",
    "\n",
    "public class Elements\n",
    "\t{\n",
    "\t\tpublic static void Main(String[] args)\n",
    "\t\t{\n",
    "\t\tConsole.WriteLine(\"Input the number of elements to be stored in the array:\");\n",
    "\t\tint n = Convert.ToInt32(Console.ReadLine ());\n",
    "\t\tint[] arr = new int[n];\n",
    "\t\tConsole.WriteLine(\"Input elements in array:\");\n",
    "\t\tfor(int i=0; i<n; i++)\n",
    "\t\t{\n",
    "\t\t\t\tConsole.WriteLine(\"Element - \"+i+\" : \");\n",
    "\t\t\t\tarr[i] = Convert.ToInt32(Console. ReadLine ());\n",
    "\t\t}\n",
    "\t\tint[] arr1 = new int[n];\n",
    "\t\tint[] arr2 = new int[n];\n",
    "\t\tint a=0; \n",
    "\t\tint b=0;\n",
    "\t\tfor (int i=0; i<n; i++)\n",
    "\t\t{\n",
    "\t\t\tif (arr[i]%2==0)\n",
    "\t\t\t{\n",
    "\t\t\t\tarr2[b] = arr[i];\n",
    "\t\t\t\tb++;\n",
    "\t\t\t}\n",
    "\t\t\telse\n",
    "\t\t\t{\n",
    "\t\t\t\tarr1[a] = arr[i];\n",
    "\t\t\t\ta++;\n",
    "\t\t\t}\n",
    "\t\t}\n",
    "\t\tConsole.WriteLine(\"The even elements are\");\n",
    "\t\tfor (int i=0; i<b; i++)\n",
    "\t\t{\n",
    "\t\tConsole.WriteLine(arr2[i]);\n",
    "\t\t}\n",
    "\t\tConsole.WriteLine(\"The odd elements are\");\n",
    "\t\tfor (int i=0; i<a; i++)\n",
    "\t\t{\n",
    "\t\tConsole.WriteLine(arr1[i]);\n",
    "       \n",
    "  \t\t}\n",
    "\t\t}\n",
    "}"
   ]
  },
  {
   "cell_type": "markdown",
   "id": "7bdd65f8",
   "metadata": {},
   "source": [
    "# Question 5 C#\n",
    "a. Write a function inside(x,y,x1,y1,x2,y2) that returns True or False\n",
    "dependingonwhetherthepoint(x,y)liesintherectanglewithlowerleft\n",
    "corner (x1,y1) and upper right corner (x2,y2).\n",
    ">>> inside(1,1,0,0,2,3)\n",
    "True\n",
    ">>> inside(-1,-1,0,0,2,3)\n",
    "False\n",
    "\n",
    "b. Use function inside()from part a. to write an expression that tests whether\n",
    "the point (1,1) lies in both of the following rectangles: one with lower left\n",
    "corner (0.3, 0.5) and upper right corner (1.1, 0.7) and the other with lower\n",
    "left corner (0.5, 0.2) and upper right corner (1.1, 2).\n",
    "\n",
    "Output:-\n",
    "False\n",
    "True"
   ]
  },
  {
   "cell_type": "code",
   "execution_count": null,
   "id": "65c98082",
   "metadata": {},
   "outputs": [],
   "source": [
    "// Question 5 a\n",
    "\n",
    "using System;\n",
    "\n",
    "public class Program\n",
    "{\n",
    "\t\n",
    "\tpublic static bool inside(double x, double y, double x1, double y1, double x2, double y2)\n",
    "\t{\n",
    "\t\tif(x >= x1 && x <= x2)\n",
    "\t\t{\n",
    "\t\t\tif(y >= y1 && y <= y2)\n",
    "\t\t\t{\n",
    "\t\t\t\treturn true;\n",
    "\t\t\t}\n",
    "\t\t\telse \n",
    "\t\t\t{\n",
    "\t\t\t\treturn false;\n",
    "\t\t\t}\n",
    "\t\t}\n",
    "\t\telse\n",
    "\t\t{\n",
    "\t\t\treturn false;\n",
    "\t\t}\n",
    "\t}\n",
    "\t\tpublic static void Main()\n",
    "\t{\n",
    "\t\tConsole.WriteLine(inside(1,1,0,0,2,3));\n",
    "\t\tConsole.WriteLine(inside(-1,-1,0,0,2,3));\n",
    "\t}\n",
    "\t\n",
    "\t\n",
    "}\n"
   ]
  },
  {
   "cell_type": "code",
   "execution_count": null,
   "id": "5a722cb6",
   "metadata": {},
   "outputs": [],
   "source": [
    "// Question 5 b\n",
    "\n",
    "using System;\n",
    "\n",
    "public class Program\n",
    "{\n",
    "\t\n",
    "\tpublic static bool inside(double x, double y, double x1, double y1, double x2, double y2)\n",
    "\t{\n",
    "\t\tif(x >= x1 && x <= x2)\n",
    "\t\t{\n",
    "\t\t\tif(y >= y1 && y <= y2)\n",
    "\t\t\t{\n",
    "\t\t\t\treturn true;\n",
    "\t\t\t}\n",
    "\t\t\telse \n",
    "\t\t\t{\n",
    "\t\t\t\treturn false;\n",
    "\t\t\t}\n",
    "\t\t}\n",
    "\t\telse\n",
    "\t\t{\n",
    "\t\t\treturn false;\n",
    "\t\t}\n",
    "\t}\n",
    "\t\tpublic static void Main()\n",
    "\t{\n",
    "\t\tConsole.WriteLine(inside(1,1,0.3,0.5,1.1,0.7));\n",
    "\t\tConsole.WriteLine(inside(1,1,0.5,0.2,1.1,2));\n",
    "\t}\n",
    "\t\n",
    "\t\n",
    "}\n"
   ]
  },
  {
   "cell_type": "markdown",
   "id": "edced38e",
   "metadata": {},
   "source": [
    "# Question 6 python\n",
    "16. You can turn a word into pig-Latin using the following two rules(simplified):\n",
    "• If the word starts with a consonant, move that letter to the end and append\n",
    "'ay'. For example, 'happy' becomes 'appyhay' and 'pencil' becomes 'encilpay'.\n",
    "• If the word starts with a vowel, simply append 'way' to the end of the word.\n",
    "For example, 'enter' becomes 'enterway' and 'other' becomes 'otherway' . For\n",
    "our purposes, there are 5 vowels: a, e, i, o, u (so we count y as a consonant).\n",
    "Write a function pig() that takes a word (i.e., a string) as input and returns its pigLatin form. Your function should still work if the input word contains upper case\n",
    "characters. Your output should always be lower case however.\n",
    ">>> pig('happy')\n",
    "'appyhay'\n",
    ">>> pig('Enter')\n",
    "'enterway'"
   ]
  },
  {
   "cell_type": "code",
   "execution_count": 3,
   "id": "a95fe21f",
   "metadata": {},
   "outputs": [
    {
     "name": "stdout",
     "output_type": "stream",
     "text": [
      "write your text: HAPPY\n",
      "appyhay\n"
     ]
    }
   ],
   "source": [
    "def pig_latin(s):  \n",
    "    s=s.lower()  \n",
    "    s1=\"\"   \n",
    "    if(s[0]=='a'or s[0]=='e'or s[0]=='i' or s[0]=='o' or s[0]=='u'): \n",
    "        s1=s+\"way\" \n",
    "    else:\n",
    "        for i in range(1,len(s)): \n",
    "            s1=s1+s[i]\n",
    "        s1=s1+s[0]+\"ay\"\n",
    "    return s1  \n",
    "\n",
    "pig = input(\"write your text: \")\n",
    "print(pig_latin(pig))"
   ]
  },
  {
   "cell_type": "markdown",
   "id": "fd93f7e1",
   "metadata": {},
   "source": [
    "# Question 7 python\n",
    "File bloodtype1.txt records blood-types of patients (A, B, AB, O or OO) at a clinic.\n",
    "Write a function bldcount() that reads the file with name name and reports (i.e.,\n",
    "prints) how many patients there are in each bloodtype.\n",
    ">>> bldcount('bloodtype.txt')\n",
    "There are 10 patients of blood type A.\n",
    "There is one patient of blood type B.\n",
    "There are 10 patients of blood type AB.\n",
    "There are 12 patients of blood type O.\n",
    "There are no patients of blood type OO."
   ]
  },
  {
   "cell_type": "code",
   "execution_count": 4,
   "id": "a9e4c398",
   "metadata": {},
   "outputs": [],
   "source": []
  },
  {
   "cell_type": "markdown",
   "id": "5ec7541f",
   "metadata": {},
   "source": [
    "# Question 8 Python\n",
    "Write a function curconv() that takes as input:\n",
    "1. a currency represented using a string (e.g., 'JPY' for the Japanese Yen or\n",
    "'EUR' for the Euro)\n",
    "2. an amount\n",
    "and then converts and returns the amount in US dollars.\n",
    ">>> curconv('EUR', 100)\n",
    "122.96544\n",
    ">>> curconv('JPY', 100)\n",
    "1.241401\n",
    "The currency rates you will need are stored in file currencies.txt:\n",
    "AUD 1.0345157 Australian Dollar\n",
    "CHF 1.0237414 Swiss Franc\n",
    "CNY 0.1550176 Chinese Yuan\n",
    "DKK 0.1651442 Danish Krone\n",
    "EUR 1.2296544 Euro\n",
    "GBP 1.5550989 British Pound\n",
    "HKD 0.1270207 Hong Kong Dollar\n",
    "INR 0.0177643 Indian Rupee\n",
    "JPY 0.01241401 Japanese Yen\n",
    "MXN 0.0751848 Mexican Peso\n",
    "MYR 0.3145411 Malaysian Ringgit\n",
    "NOK 0.1677063 Norwegian Krone\n",
    "NZD 0.8003591 New Zealand Dollar\n",
    "PHP 0.0233234 Philippine Peso\n",
    "SEK 0.148269 Swedish Krona\n",
    "SGD 0.788871 Singapore Dollar\n",
    "THB 0.0313789 Thai Baht"
   ]
  },
  {
   "cell_type": "code",
   "execution_count": 5,
   "id": "540da773",
   "metadata": {},
   "outputs": [
    {
     "name": "stdout",
     "output_type": "stream",
     "text": [
      "122.96544\n",
      "1.241401\n"
     ]
    }
   ],
   "source": [
    "def curconv(currency, amount):\n",
    "    \n",
    "    fp = open(\"currencies.txt\")\n",
    "    for line in fp.readlines():\n",
    "        cols = line.strip().split()\n",
    "        (cur_type, rate, cur_name) = (cols[0], float(cols[1]), ' '.join(cols))\n",
    "        if(cur_type == currency):\n",
    "            break\n",
    "   \n",
    "    fp.close()\n",
    "   \n",
    "    return rate * amount\n",
    "\n",
    "\n",
    "print(curconv(\"EUR\", 100))\n",
    "\n",
    "print(curconv(\"JPY\", 100))"
   ]
  },
  {
   "cell_type": "markdown",
   "id": "29ed4b1a",
   "metadata": {},
   "source": [
    "# Question 9 python\n",
    "Each of the following will cause an exception (an error). Identify what type of\n",
    "exception each will cause.\n",
    "\n",
    "Trying to add incompatible variables, as in\n",
    "adding 6 + ‘a’\n",
    "Referring to the 12th item of a list that has only 10\n",
    "items\n",
    "Using a value that is out ofrange for a function’s\n",
    "input, such as calling math.sqrt(-1.0)\n",
    "Using an undeclared variable, such as print(x)\n",
    "when x has not been defined\n",
    "Trying to open a file that does not exist, such as\n",
    "mistyping the file name or looking in the wrong\n",
    "directory"
   ]
  },
  {
   "cell_type": "code",
   "execution_count": null,
   "id": "e7f9c349",
   "metadata": {},
   "outputs": [],
   "source": []
  },
  {
   "cell_type": "markdown",
   "id": "f0495b0c",
   "metadata": {},
   "source": [
    "# Question 10 python\n",
    "Encryption is the process of hiding the meaning of a text by substituting letters in the\n",
    "message with other letters, according to some system. If the process is successful, no\n",
    "one but the intended recipient can understand the encrypted message. Cryptanalysis\n",
    "refers to attempts to undo the encryption, even if some details of the encryption are\n",
    "unknown (for example, if an encrypted message has been intercepted). The first step\n",
    "of cryptanalysis is often to build up a table of letter frequencies in the encrypted text.\n",
    "Assume that the string letters is already defined as\n",
    "'abcdefghijklmnopqrstuvwxyz'. Write a function called frequencies()\n",
    "that takes a string as its only parameter, and returns a list of integers, showing the\n",
    "number of times each character appears in the text. Your function may ignore any\n",
    "characters that are not in letters.\n",
    ">>> frequencies('The quick red fox got bored and went home.')\n",
    "[1, 1, 1, 3, 5, 1, 1, 2, 1, 0, 1, 0, 1, 2, 4, 0, 1, 2, 0, 2,\n",
    "1, 0, 1, 1, 0, 0]\n",
    ">>> frequencies('apple')"
   ]
  },
  {
   "cell_type": "code",
   "execution_count": 6,
   "id": "1cb0e9cb",
   "metadata": {},
   "outputs": [
    {
     "name": "stdout",
     "output_type": "stream",
     "text": [
      "Count of all characters is :\n",
      " {'a': 1, 'p': 2, 'l': 1, 'e': 1}\n"
     ]
    }
   ],
   "source": [
    "def frequencies(string):\n",
    "    all_freq = {}\n",
    "    for i in string:\n",
    "        if i in all_freq:\n",
    "            all_freq[i] += 1\n",
    "        else:\n",
    "            all_freq[i] = 1\n",
    "            \n",
    "    print (\"Count of all characters is :\\n \" +  str(all_freq))\n",
    "\n",
    "frequencies(\"apple\")"
   ]
  }
 ],
 "metadata": {
  "kernelspec": {
   "display_name": "Python 3 (ipykernel)",
   "language": "python",
   "name": "python3"
  },
  "language_info": {
   "codemirror_mode": {
    "name": "ipython",
    "version": 3
   },
   "file_extension": ".py",
   "mimetype": "text/x-python",
   "name": "python",
   "nbconvert_exporter": "python",
   "pygments_lexer": "ipython3",
   "version": "3.9.12"
  }
 },
 "nbformat": 4,
 "nbformat_minor": 5
}
